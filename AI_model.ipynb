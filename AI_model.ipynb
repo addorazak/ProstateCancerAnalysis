{
 "cells": [
  {
   "cell_type": "code",
   "execution_count": 23,
   "metadata": {},
   "outputs": [],
   "source": [
    "import tensorflow as tf\n",
    "from tensorflow.keras import layers, models, optimizers\n",
    "from tensorflow.keras.preprocessing.image import ImageDataGenerator\n",
    "import os\n",
    "import matplotlib.pyplot as plt "
   ]
  },
  {
   "cell_type": "code",
   "execution_count": 7,
   "metadata": {},
   "outputs": [],
   "source": [
    "#base directory\n",
    "base_dir = r\"C:/Users/Razak Addo/Desktop/BaseFolder\"\n",
    "\n",
    "#train\n",
    "train_dir = base_dir + \"/train\"\n",
    "\n",
    "#test\n",
    "test_dir = base_dir + \"/test\"\n",
    "\n",
    "#validation\n",
    "validation_dir = base_dir + \"/validation\""
   ]
  },
  {
   "cell_type": "code",
   "execution_count": 8,
   "metadata": {},
   "outputs": [
    {
     "name": "stdout",
     "output_type": "stream",
     "text": [
      "Found 520 images belonging to 2 classes.\n",
      "Found 174 images belonging to 2 classes.\n",
      "Found 173 images belonging to 2 classes.\n"
     ]
    }
   ],
   "source": [
    "def getDataset(dataset_dir):\n",
    "    image_data_gen = ImageDataGenerator(\n",
    "       rescale= 1./255,\n",
    "       rotation_range=40,\n",
    "       width_shift_range=0.2,\n",
    "       height_shift_range=0.2,\n",
    "       shear_range=0.2,\n",
    "       zoom_range=0.2,\n",
    "       horizontal_flip=True,\n",
    "       fill_mode='nearest'\n",
    "    )\n",
    "    image_dataset = image_data_gen.flow_from_directory(\n",
    "        dataset_dir,\n",
    "        target_size=(256, 256),\n",
    "        batch_size=30,\n",
    "        class_mode= 'binary'\n",
    "    )\n",
    "    return image_dataset\n",
    "\n",
    "train_data = getDataset(train_dir)\n",
    "\n",
    "test_data = ImageDataGenerator(rescale= 1./255)\n",
    "test_data = test_data.flow_from_directory(\n",
    "    test_dir,\n",
    "    target_size=(256, 256),\n",
    "    batch_size=30,\n",
    "    class_mode= 'binary'\n",
    ")\n",
    "\n",
    "validation_data = getDataset(validation_dir)"
   ]
  },
  {
   "cell_type": "code",
   "execution_count": 9,
   "metadata": {
    "scrolled": true
   },
   "outputs": [
    {
     "name": "stdout",
     "output_type": "stream",
     "text": [
      "(30, 256, 256, 3)\n",
      "(30,)\n"
     ]
    }
   ],
   "source": [
    "for data_batch, label_batch in train_data:\n",
    "    print(data_batch.shape)\n",
    "    print(label_batch.shape)\n",
    "    break"
   ]
  },
  {
   "cell_type": "code",
   "execution_count": 10,
   "metadata": {},
   "outputs": [],
   "source": [
    "def buildModels():\n",
    "    model = models.Sequential()\n",
    "    model.add(layers.Conv2D(32, (3,3), activation='relu', input_shape=(256, 256, 3)))\n",
    "    model.add(layers.MaxPooling2D(2,2))\n",
    "    model.add(layers.Conv2D(64, (3,3)))\n",
    "    model.add(layers.MaxPooling2D(2,2))\n",
    "    model.add(layers.Conv2D(128, (3,3)))\n",
    "    model.add(layers.MaxPooling2D(2,2))\n",
    "    model.add(layers.Flatten())\n",
    "    model.add(layers.Dropout(0.2))\n",
    "    model.add(layers.Dense(512, activation='relu'))\n",
    "    model.add(layers.Dense(1, activation='sigmoid'))\n",
    "    return model"
   ]
  },
  {
   "cell_type": "code",
   "execution_count": 11,
   "metadata": {},
   "outputs": [
    {
     "name": "stdout",
     "output_type": "stream",
     "text": [
      "WARNING:tensorflow:From C:\\Users\\Razak Addo\\Anaconda3\\lib\\site-packages\\tensorflow\\python\\ops\\init_ops.py:1251: calling VarianceScaling.__init__ (from tensorflow.python.ops.init_ops) with dtype is deprecated and will be removed in a future version.\n",
      "Instructions for updating:\n",
      "Call initializer instance with the dtype argument instead of passing it to the constructor\n",
      "WARNING:tensorflow:From C:\\Users\\Razak Addo\\Anaconda3\\lib\\site-packages\\tensorflow\\python\\ops\\nn_impl.py:180: add_dispatch_support.<locals>.wrapper (from tensorflow.python.ops.array_ops) is deprecated and will be removed in a future version.\n",
      "Instructions for updating:\n",
      "Use tf.where in 2.0, which has the same broadcast rule as np.where\n"
     ]
    }
   ],
   "source": [
    "models = buildModels()\n",
    "\n",
    "models.compile(loss='binary_crossentropy',\n",
    "               optimizer=optimizers.RMSprop(lr=1e-4),\n",
    "               metrics=['acc'])"
   ]
  },
  {
   "cell_type": "code",
   "execution_count": 12,
   "metadata": {},
   "outputs": [
    {
     "name": "stdout",
     "output_type": "stream",
     "text": [
      "Epoch 1/30\n",
      "50/50 [==============================] - 211s 4s/step - loss: 0.2566 - acc: 0.9681 - val_loss: 2.1744e-04 - val_acc: 1.0000\n",
      "Epoch 2/30\n",
      "50/50 [==============================] - 192s 4s/step - loss: 0.0257 - acc: 0.9932 - val_loss: 1.3473e-05 - val_acc: 1.0000\n",
      "Epoch 3/30\n",
      "50/50 [==============================] - 186s 4s/step - loss: 3.3865e-04 - acc: 1.0000 - val_loss: 0.8820 - val_acc: 0.6304\n",
      "Epoch 4/30\n",
      "50/50 [==============================] - 183s 4s/step - loss: 0.0210 - acc: 0.9931 - val_loss: 2.0068e-06 - val_acc: 1.0000\n",
      "Epoch 5/30\n",
      "50/50 [==============================] - 191s 4s/step - loss: 2.1735e-05 - acc: 1.0000 - val_loss: 5.1717e-07 - val_acc: 1.0000\n",
      "Epoch 6/30\n",
      "50/50 [==============================] - 193s 4s/step - loss: 0.0071 - acc: 0.9965 - val_loss: 4.4230e-08 - val_acc: 1.0000\n",
      "Epoch 7/30\n",
      "50/50 [==============================] - 246s 5s/step - loss: 1.5084e-06 - acc: 1.0000 - val_loss: 3.3031e-08 - val_acc: 1.0000\n",
      "Epoch 8/30\n",
      "50/50 [==============================] - 291s 6s/step - loss: 7.3241e-07 - acc: 1.0000 - val_loss: 6.0729e-08 - val_acc: 1.0000\n",
      "Epoch 9/30\n",
      "50/50 [==============================] - 284s 6s/step - loss: 0.0558 - acc: 0.9972 - val_loss: 1.3515e-07 - val_acc: 1.0000\n",
      "Epoch 10/30\n",
      "50/50 [==============================] - 242s 5s/step - loss: 4.9217e-05 - acc: 1.0000 - val_loss: 5.9263e-08 - val_acc: 1.0000\n",
      "Epoch 11/30\n",
      "50/50 [==============================] - 247s 5s/step - loss: 0.0048 - acc: 0.9986 - val_loss: 1.8620e-07 - val_acc: 1.0000\n",
      "Epoch 12/30\n",
      "50/50 [==============================] - 205s 4s/step - loss: 6.2748e-05 - acc: 1.0000 - val_loss: 2.9856e-09 - val_acc: 1.0000\n",
      "Epoch 13/30\n",
      "50/50 [==============================] - 187s 4s/step - loss: 1.4482e-07 - acc: 1.0000 - val_loss: 2.3945e-09 - val_acc: 1.0000\n",
      "Epoch 14/30\n",
      "50/50 [==============================] - 197s 4s/step - loss: 1.0536e-07 - acc: 1.0000 - val_loss: 2.1743e-09 - val_acc: 1.0000\n",
      "Epoch 15/30\n",
      "50/50 [==============================] - 198s 4s/step - loss: 1.1749e-06 - acc: 1.0000 - val_loss: 1.7623 - val_acc: 0.8774\n",
      "Epoch 16/30\n",
      "50/50 [==============================] - 175s 3s/step - loss: 0.0434 - acc: 0.9966 - val_loss: 1.7280e-09 - val_acc: 1.0000\n",
      "Epoch 17/30\n",
      "50/50 [==============================] - 185s 4s/step - loss: 6.2863e-06 - acc: 1.0000 - val_loss: 8.6563e-10 - val_acc: 1.0000\n",
      "Epoch 18/30\n",
      "50/50 [==============================] - 262s 5s/step - loss: 9.2047e-07 - acc: 1.0000 - val_loss: 3.0473e-10 - val_acc: 1.0000\n",
      "Epoch 19/30\n",
      "50/50 [==============================] - 281s 6s/step - loss: 1.1638e-07 - acc: 1.0000 - val_loss: 5.6092e-10 - val_acc: 1.0000\n",
      "Epoch 20/30\n",
      "50/50 [==============================] - 268s 5s/step - loss: 0.0068 - acc: 0.9979 - val_loss: 2.7504e-07 - val_acc: 1.0000\n",
      "Epoch 21/30\n",
      "50/50 [==============================] - 247s 5s/step - loss: 5.6400e-06 - acc: 1.0000 - val_loss: 6.8943e-09 - val_acc: 1.0000\n",
      "Epoch 22/30\n",
      "50/50 [==============================] - 253s 5s/step - loss: 3.3129e-07 - acc: 1.0000 - val_loss: 9.5654e-10 - val_acc: 1.0000\n",
      "Epoch 23/30\n",
      "50/50 [==============================] - 232s 5s/step - loss: 3.0365e-08 - acc: 1.0000 - val_loss: 1.7916e-10 - val_acc: 1.0000\n",
      "Epoch 24/30\n",
      "50/50 [==============================] - 188s 4s/step - loss: 0.0042 - acc: 0.9979 - val_loss: 1.8295e-07 - val_acc: 1.0000\n",
      "Epoch 25/30\n",
      "50/50 [==============================] - 178s 4s/step - loss: 8.6940e-08 - acc: 1.0000 - val_loss: 1.7458e-09 - val_acc: 1.0000\n",
      "Epoch 26/30\n",
      "50/50 [==============================] - 175s 4s/step - loss: 3.4376e-08 - acc: 1.0000 - val_loss: 1.2279e-09 - val_acc: 1.0000\n",
      "Epoch 27/30\n",
      "50/50 [==============================] - 187s 4s/step - loss: 3.9153e-08 - acc: 1.0000 - val_loss: 1.0244e-08 - val_acc: 1.0000\n",
      "Epoch 28/30\n",
      "50/50 [==============================] - 182s 4s/step - loss: 4.8309e-04 - acc: 1.0000 - val_loss: 7.6333e-09 - val_acc: 1.0000\n",
      "Epoch 29/30\n",
      "50/50 [==============================] - 196s 4s/step - loss: 4.5961e-08 - acc: 1.0000 - val_loss: 2.6936e-10 - val_acc: 1.0000\n",
      "Epoch 30/30\n",
      "50/50 [==============================] - 181s 4s/step - loss: 1.1970e-08 - acc: 1.0000 - val_loss: 1.4025e-10 - val_acc: 1.0000\n"
     ]
    }
   ],
   "source": [
    "batch_size=32\n",
    "history = models.fit(\n",
    "    train_data,\n",
    "    steps_per_epoch= 50,\n",
    "    epochs=30,\n",
    "    validation_data=validation_data,\n",
    "    validation_steps= 20)"
   ]
  },
  {
   "cell_type": "code",
   "execution_count": 13,
   "metadata": {},
   "outputs": [],
   "source": [
    "history_result = history.history\n",
    "loss = history_result['loss']\n",
    "acc = history_result['acc']\n",
    "val_acc = history_result['val_acc']\n",
    "val_loss = history_result['val_loss']\n",
    "epochs = range(0, len(loss))"
   ]
  },
  {
   "cell_type": "code",
   "execution_count": 14,
   "metadata": {},
   "outputs": [
    {
     "name": "stdout",
     "output_type": "stream",
     "text": [
      "6/6 [==============================] - 11s 2s/step - loss: 0.0112 - acc: 0.9943\n",
      "Accuracy:0.9942528605461121, Loss:0.01118155944259342\n"
     ]
    }
   ],
   "source": [
    "test_loss, test_acc = models.evaluate(test_data)\n",
    "print('Accuracy:{}, Loss:{}'.format(test_acc, test_loss))"
   ]
  },
  {
   "cell_type": "code",
   "execution_count": 15,
   "metadata": {},
   "outputs": [
    {
     "data": {
      "image/png": "[encoded data removed]",
      "text/plain": [
       "<Figure size 432x288 with 1 Axes>"
      ]
     },
     "metadata": {
      "needs_background": "light"
     },
     "output_type": "display_data"
    },
    {
     "data": {
      "image/png": "[encoded data removed]",
      "text/plain": [
       "<Figure size 432x288 with 1 Axes>"
      ]
     },
     "metadata": {
      "needs_background": "light"
     },
     "output_type": "display_data"
    }
   ],
   "source": [
    "plt.plot(epochs, acc, 'bo', label='Training acc')\n",
    "plt.plot(epochs, val_acc, 'b', label='Validation acc')\n",
    "plt.title('Training and validation accuracy')\n",
    "plt.legend()\n",
    "plt.figure()\n",
    "plt.plot(epochs, loss, 'bo', label='Training loss')\n",
    "plt.plot(epochs, val_loss, 'b', label='Validation loss')\n",
    "plt.title('Training and validation loss')\n",
    "plt.legend()\n",
    "plt.show()"
   ]
  },
  {
   "cell_type": "code",
   "execution_count": 16,
   "metadata": {},
   "outputs": [
    {
     "name": "stdout",
     "output_type": "stream",
     "text": [
      "model was saved..\n"
     ]
    }
   ],
   "source": [
    "models.save('ProstateModel.h5')\n",
    "model_json = models.to_json()\n",
    "with open('Prostate_model_json.json', 'w') as files:\n",
    "  files.write(model_json)\n",
    "\n",
    "models.save_weights('ProstateModelWeight.h5')\n",
    "print('model was saved..')"
   ]
  },
  {
   "cell_type": "code",
   "execution_count": 3,
   "metadata": {},
   "outputs": [
    {
     "name": "stdout",
     "output_type": "stream",
     "text": [
      "WARNING:tensorflow:From C:\\Users\\Razak Addo\\Anaconda3\\lib\\site-packages\\tensorflow\\python\\ops\\init_ops.py:97: calling GlorotUniform.__init__ (from tensorflow.python.ops.init_ops) with dtype is deprecated and will be removed in a future version.\n",
      "Instructions for updating:\n",
      "Call initializer instance with the dtype argument instead of passing it to the constructor\n",
      "WARNING:tensorflow:From C:\\Users\\Razak Addo\\Anaconda3\\lib\\site-packages\\tensorflow\\python\\ops\\init_ops.py:1251: calling VarianceScaling.__init__ (from tensorflow.python.ops.init_ops) with dtype is deprecated and will be removed in a future version.\n",
      "Instructions for updating:\n",
      "Call initializer instance with the dtype argument instead of passing it to the constructor\n",
      "WARNING:tensorflow:From C:\\Users\\Razak Addo\\Anaconda3\\lib\\site-packages\\tensorflow\\python\\ops\\init_ops.py:97: calling Zeros.__init__ (from tensorflow.python.ops.init_ops) with dtype is deprecated and will be removed in a future version.\n",
      "Instructions for updating:\n",
      "Call initializer instance with the dtype argument instead of passing it to the constructor\n",
      "WARNING:tensorflow:From C:\\Users\\Razak Addo\\Anaconda3\\lib\\site-packages\\tensorflow\\python\\ops\\nn_impl.py:180: add_dispatch_support.<locals>.wrapper (from tensorflow.python.ops.array_ops) is deprecated and will be removed in a future version.\n",
      "Instructions for updating:\n",
      "Use tf.where in 2.0, which has the same broadcast rule as np.where\n",
      "Model: \"sequential\"\n",
      "_________________________________________________________________\n",
      "Layer (type)                 Output Shape              Param #   \n",
      "=================================================================\n",
      "conv2d (Conv2D)              (None, 254, 254, 32)      896       \n",
      "_________________________________________________________________\n",
      "max_pooling2d (MaxPooling2D) (None, 127, 127, 32)      0         \n",
      "_________________________________________________________________\n",
      "conv2d_1 (Conv2D)            (None, 125, 125, 64)      18496     \n",
      "_________________________________________________________________\n",
      "max_pooling2d_1 (MaxPooling2 (None, 62, 62, 64)        0         \n",
      "_________________________________________________________________\n",
      "conv2d_2 (Conv2D)            (None, 60, 60, 128)       73856     \n",
      "_________________________________________________________________\n",
      "max_pooling2d_2 (MaxPooling2 (None, 30, 30, 128)       0         \n",
      "_________________________________________________________________\n",
      "flatten (Flatten)            (None, 115200)            0         \n",
      "_________________________________________________________________\n",
      "dropout (Dropout)            (None, 115200)            0         \n",
      "_________________________________________________________________\n",
      "dense (Dense)                (None, 512)               58982912  \n",
      "_________________________________________________________________\n",
      "dense_1 (Dense)              (None, 1)                 513       \n",
      "=================================================================\n",
      "Total params: 59,076,673\n",
      "Trainable params: 59,076,673\n",
      "Non-trainable params: 0\n",
      "_________________________________________________________________\n"
     ]
    }
   ],
   "source": [
    "model = tf.keras.models.load_model(r\"C:\\Users\\Razak Addo\\Desktop\\PROSTATEPROJECT\\BaseFolder\\H5\\ProstateModel.h5\")\n",
    "model.summary()"
   ]
  },
  {
   "cell_type": "code",
   "execution_count": 4,
   "metadata": {},
   "outputs": [
    {
     "name": "stdout",
     "output_type": "stream",
     "text": [
      "Result: positive\n"
     ]
    }
   ],
   "source": [
    "import tensorflow as tf\n",
    "import numpy as np\n",
    "image = tf.keras.preprocessing.image\n",
    "\n",
    "img = image.load_img(r\"C:\\Users\\Razak Addo\\Desktop\\PROSTATEPROJECT\\PurelyTestingCancerous\\Pictures\\UNKNOWN001\\4_26_2007_8_16_29_AM\\IMG-0002-00007.jpg\",target_size=(256,256))\n",
    "img = image.img_to_array(img,dtype=\"float32\")\n",
    "img = img.reshape(((1,256,256,3)))\n",
    "img = img/255.0\n",
    "img_class = model.predict_classes(img)\n",
    "classes= [\"negative\",\"positive\"]\n",
    "prediction = classes[img_class[0][0]]\n",
    "print(\"Result:\", prediction)"
   ]
  }
 ],
 "metadata": {
  "kernelspec": {
   "display_name": "Python 3",
   "language": "python",
   "name": "python3"
  },
  "language_info": {
   "codemirror_mode": {
    "name": "ipython",
    "version": 3
   },
   "file_extension": ".py",
   "mimetype": "text/x-python",
   "name": "python",
   "nbconvert_exporter": "python",
   "pygments_lexer": "ipython3",
   "version": "3.7.4"
  }
 },
 "nbformat": 4,
 "nbformat_minor": 2
}
